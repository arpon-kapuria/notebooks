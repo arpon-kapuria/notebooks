{
 "cells": [
  {
   "cell_type": "code",
   "execution_count": null,
   "metadata": {
    "id": "KzRvvdcpYe8R"
   },
   "outputs": [],
   "source": [
    "! pip install langchain_community tiktoken langchain-openai langchainhub chromadb langchain"
   ]
  },
  {
   "cell_type": "code",
   "execution_count": null,
   "metadata": {
    "executionInfo": {
     "elapsed": 553,
     "status": "ok",
     "timestamp": 1732913182317,
     "user": {
      "displayName": "Arpon Kapuria",
      "userId": "11236295012121165410"
     },
     "user_tz": -360
    },
    "id": "w2wDnXYUbp6w"
   },
   "outputs": [],
   "source": [
    "import os\n",
    "os.environ['LANGCHAIN_TRACING_V2'] = 'true'\n",
    "os.environ['LANGCHAIN_ENDPOINT'] = 'https://api.smith.langchain.com'\n",
    "os.environ['LANGCHAIN_API_KEY'] = ''\n"
   ]
  },
  {
   "cell_type": "code",
   "execution_count": null,
   "metadata": {
    "executionInfo": {
     "elapsed": 2,
     "status": "ok",
     "timestamp": 1732913184338,
     "user": {
      "displayName": "Arpon Kapuria",
      "userId": "11236295012121165410"
     },
     "user_tz": -360
    },
    "id": "hLdRjChyb38L"
   },
   "outputs": [],
   "source": [
    "os.environ['OPENAI_API_KEY'] = ''"
   ]
  },
  {
   "cell_type": "code",
   "execution_count": 55,
   "metadata": {
    "executionInfo": {
     "elapsed": 509,
     "status": "ok",
     "timestamp": 1732913195048,
     "user": {
      "displayName": "Arpon Kapuria",
      "userId": "11236295012121165410"
     },
     "user_tz": -360
    },
    "id": "tWv2YosocBuf"
   },
   "outputs": [],
   "source": [
    "from langchain import hub\n",
    "from langchain.text_splitter import RecursiveCharacterTextSplitter\n",
    "from langchain_community.document_loaders import WebBaseLoader\n",
    "from langchain_community.vectorstores import Chroma\n",
    "from langchain_core.output_parsers import StrOutputParser\n",
    "from langchain_core.runnables import RunnablePassthrough\n",
    "from langchain_openai import ChatOpenAI, OpenAIEmbeddings\n",
    "import json\n",
    "from langchain.docstore.document import Document"
   ]
  },
  {
   "cell_type": "code",
   "execution_count": 56,
   "metadata": {
    "executionInfo": {
     "elapsed": 3,
     "status": "ok",
     "timestamp": 1732913197345,
     "user": {
      "displayName": "Arpon Kapuria",
      "userId": "11236295012121165410"
     },
     "user_tz": -360
    },
    "id": "V1vZDr9ZdXMk"
   },
   "outputs": [],
   "source": [
    "# Function to load data from a .json file\n",
    "def load_json_data(json_file_path):\n",
    "    with open(json_file_path, 'r') as file:\n",
    "        data = json.load(file)\n",
    "    return data\n",
    "\n",
    "# Modify the loader to work with .json file data\n",
    "def process_json_data(json_file_path):\n",
    "    data = load_json_data(json_file_path)\n",
    "\n",
    "    docs = []\n",
    "    for entry in data:\n",
    "        document_text = f\"Citation: {entry.get('citation', '')}\\n\" \\\n",
    "                        f\"Case Name: {entry.get('name', '')}\\n\" \\\n",
    "                        f\"Year: {entry.get('year', '')}\\n\" \\\n",
    "                        f\"Language: {entry.get('language', '')}\\n\" \\\n",
    "                        f\"Document Date: {entry.get('document_date', '')}\\n\" \\\n",
    "                        f\"Content: {entry.get('unofficial_text', '')}\"\n",
    "        metadata = {\n",
    "            \"citation\": entry.get(\"citation\", \"\"),\n",
    "            \"name\": entry.get(\"name\", \"\"),\n",
    "            \"year\": entry.get(\"year\", \"\"),\n",
    "            \"language\": entry.get(\"language\", \"\"),\n",
    "            \"document_date\": entry.get(\"document_date\", \"\"),\n",
    "        }\n",
    "        docs.append(Document(page_content=document_text, metadata=metadata))\n",
    "    return docs\n"
   ]
  },
  {
   "cell_type": "code",
   "execution_count": 58,
   "metadata": {
    "colab": {
     "base_uri": "https://localhost:8080/"
    },
    "executionInfo": {
     "elapsed": 2338,
     "status": "ok",
     "timestamp": 1732913216466,
     "user": {
      "displayName": "Arpon Kapuria",
      "userId": "11236295012121165410"
     },
     "user_tz": -360
    },
    "id": "GqydHGXVZL88",
    "outputId": "0de6d08c-305d-45e3-8d76-8ad1f40a6b61"
   },
   "outputs": [
    {
     "name": "stdout",
     "output_type": "stream",
     "text": [
      "\n",
      "Processing json data\n",
      "\n",
      "Splitting documents\n",
      "\n",
      "Embedding documents\n",
      "\n",
      "Creating retriever\n"
     ]
    }
   ],
   "source": [
    "# Example usage with your .json file\n",
    "json_file_path = '/content/data.json'  # Path to your JSON file\n",
    "docs = process_json_data(json_file_path)\n",
    "print(\"\\nProcessing json data\")\n",
    "\n",
    "# Split documents into chunks\n",
    "text_splitter = RecursiveCharacterTextSplitter(chunk_size=1000, chunk_overlap=200)\n",
    "splits = text_splitter.split_documents(docs)\n",
    "print(\"\\nSplitting documents\")\n",
    "\n",
    "# Embed documents using OpenAIEmbeddings\n",
    "vectorstore = Chroma.from_documents(documents=splits, embedding=OpenAIEmbeddings())\n",
    "print(\"\\nEmbedding documents\")\n",
    "\n",
    "# Create retriever\n",
    "retriever = vectorstore.as_retriever()\n",
    "print(\"\\nCreated retriever\")\n"
   ]
  },
  {
   "cell_type": "code",
   "execution_count": 59,
   "metadata": {
    "colab": {
     "base_uri": "https://localhost:8080/",
     "height": 71
    },
    "executionInfo": {
     "elapsed": 2885,
     "status": "ok",
     "timestamp": 1732913223549,
     "user": {
      "displayName": "Arpon Kapuria",
      "userId": "11236295012121165410"
     },
     "user_tz": -360
    },
    "id": "shzdWEaNaLeP",
    "outputId": "f4454fc2-d076-47aa-d0cd-f291136c1c66"
   },
   "outputs": [
    {
     "data": {
      "application/vnd.google.colaboratory.intrinsic+json": {
       "type": "string"
      },
      "text/plain": [
       "'Yogeswaran v. Canada (Minister of Citizenship and Immigration) involved applicants seeking judicial review of a decision by the Convention Refugee Determination Division. The decision dated February 17, 1999, determined that the applicants were not Convention refugees under the Immigration Act. The case was heard in Toronto on August 15, 2000, with the decision reserved for further consideration.'"
      ]
     },
     "execution_count": 59,
     "metadata": {},
     "output_type": "execute_result"
    }
   ],
   "source": [
    "#### RETRIEVAL and GENERATION ####\n",
    "\n",
    "# Prompt\n",
    "prompt = hub.pull(\"rlm/rag-prompt\")\n",
    "\n",
    "# LLM\n",
    "llm = ChatOpenAI(model_name=\"gpt-3.5-turbo\", temperature=0)\n",
    "\n",
    "# Post-processing\n",
    "def format_docs(docs):\n",
    "    return \"\\n\\n\".join(doc.page_content for doc in docs)\n",
    "\n",
    "# Chain\n",
    "rag_chain = (\n",
    "    {\"context\": retriever | format_docs, \"question\": RunnablePassthrough()}\n",
    "    | prompt\n",
    "    | llm\n",
    "    | StrOutputParser()\n",
    ")\n",
    "\n",
    "# Question\n",
    "# rag_chain.invoke(\"Give me the summary of Yogeswaran v. Canada (Ministry of Citizenship and Tourism) case\")\n",
    "#rag_chain.invoke(\"What is the significance of an interlocutory motion in legal proceedings?\")\n",
    "\n",
    "\n",
    "## install streamlit package\n",
    "# Streamlit UI\n",
    "\n",
    "# import streamlit as st\n",
    "\n",
    "st.title(\"Legal Document Query System\")\n",
    "st.sidebar.header(\"Settings\")\n",
    "\n",
    "query_input = st.text_area(\"Enter your legal query:\", \"\")\n",
    "run_query = st.button(\"Run Query\")\n",
    "\n",
    "if run_query and query_input.strip():\n",
    "    st.info(\"Running query...\")\n",
    "    try:\n",
    "        gpt_response = rag_chain.invoke(query_input)\n",
    "        st.subheader(\"GPT-4 Generated Response\")\n",
    "        st.write(gpt_response)\n",
    "    except Exception as e:\n",
    "        st.error(f\"Error: {e}\")"
   ]
  }
 ],
 "metadata": {
  "colab": {
   "provenance": []
  },
  "kernelspec": {
   "display_name": "Python 3",
   "name": "python3"
  },
  "language_info": {
   "name": "python"
  }
 },
 "nbformat": 4,
 "nbformat_minor": 0
}
